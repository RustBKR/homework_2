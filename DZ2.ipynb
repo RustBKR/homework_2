{
 "cells": [
  {
   "cell_type": "code",
   "execution_count": 9,
   "metadata": {},
   "outputs": [
    {
     "name": "stdout",
     "output_type": "stream",
     "text": [
      "[['visit1', ['Москва', 'Россия']], ['visit3', ['Владимир', 'Россия']], ['visit7', ['Тула', 'Россия']], ['visit8', ['Тула', 'Россия']], ['visit9', ['Курск', 'Россия']], ['visit10', ['Архангельск', 'Россия']]]\n"
     ]
    }
   ],
   "source": [
    "# ДЗ 2 задача 1\n",
    "geo_logs = [\n",
    "['visit1', ['Москва', 'Россия']],\n",
    "['visit2', ['Дели', 'Индия']],\n",
    "['visit3', ['Владимир', 'Россия']],\n",
    "['visit4', ['Лиссабон', 'Португалия']],\n",
    "['visit5', ['Париж', 'Франция']],\n",
    "['visit6', ['Лиссабон', 'Португалия']],\n",
    "['visit7', ['Тула', 'Россия']],\n",
    "['visit8', ['Тула', 'Россия']],\n",
    "['visit9', ['Курск', 'Россия']],\n",
    "['visit10', ['Архангельск', 'Россия']],\n",
    "]\n",
    "b=[]\n",
    "for visit in geo_logs:\n",
    "    if 'Россия' in visit[1]:\n",
    "        b.append(visit)\n",
    "geo_logs = list(b)\n",
    "print (geo_logs)"
   ]
  },
  {
   "cell_type": "code",
   "execution_count": 2,
   "metadata": {},
   "outputs": [
    {
     "name": "stdout",
     "output_type": "stream",
     "text": [
      "Уникальные гео-ID:  [213, 15, 54, 119, 98, 35]\n"
     ]
    }
   ],
   "source": [
    "# ДЗ 2 задача 2\n",
    "ids = [['user1', [213, 213, 213, 15, 213]], ['user2', [54, 54, 119, 119, 119]], ['user3', [213, 98, 98, 35]]]\n",
    "x = 1\n",
    "y = 1\n",
    "first, second, third = ids\n",
    "stroka = first[1] + second[1] + third[1]\n",
    "dl = len(stroka)\n",
    "unique_ids = [stroka[0]]\n",
    "while x < dl:\n",
    "    if stroka[x] not in unique_ids:\n",
    "        unique_ids.append(stroka[x])\n",
    "        x +=1\n",
    "    else:\n",
    "        x +=1\n",
    "print ('Уникальные гео-ID: ', unique_ids)"
   ]
  },
  {
   "cell_type": "code",
   "execution_count": 3,
   "metadata": {},
   "outputs": [
    {
     "name": "stdout",
     "output_type": "stream",
     "text": [
      "Доля запросов из двух слов  42 %\n",
      "Доля запросов из трех слов:  57 %\n"
     ]
    }
   ],
   "source": [
    "# ДЗ 2 задача 3\n",
    "queries = [\n",
    "'смотреть сериалы онлайн',\n",
    "'новости спорта',\n",
    "'афиша кино',\n",
    "'курс доллара',\n",
    "'сериалы этим летом',\n",
    "'курс по питону',\n",
    "'сериалы про спорт',\n",
    "]\n",
    "num_words = [len(sentence.split()) for sentence in queries]\n",
    "dl = len(num_words)\n",
    "nm_1 = num_words.count (1)\n",
    "nm_2 = num_words.count (2)\n",
    "nm_3 = num_words.count (3)\n",
    "nm_4 = num_words.count (4)\n",
    "nm_5 = num_words.count (5)\n",
    "if nm_1 != 0:\n",
    "    print ('Доля запросов из одного слова: ',int((nm_1 / dl) * 100),'%')\n",
    "if nm_2 != 0:\n",
    "    print ('Доля запросов из двух слов ',int((nm_2 / dl) * 100),'%')\n",
    "if nm_3 != 0:\n",
    "    print ('Доля запросов из трех слов: ',int((nm_3 / dl) * 100),'%')\n",
    "if nm_4 != 0:\n",
    "    print ('Доля запросов из четырех слов: ',int((nm_4 / dl) * 100),'%')\n",
    "if nm_5 != 0:\n",
    "    print ('Доля запросов из пяти слов: ',int((nm_5 / dl) * 100),'%')"
   ]
  },
  {
   "cell_type": "code",
   "execution_count": 2,
   "metadata": {},
   "outputs": [
    {
     "name": "stdout",
     "output_type": "stream",
     "text": [
      "[3, 4, 1, 13, 7, 4, 10, 19, 4, 8, 9, 11]\n",
      "Отношение суммы всех просмотров к количеству уникальных пользователей:  23.25\n"
     ]
    }
   ],
   "source": [
    "# ДЗ 2 задача 4\n",
    "stream = [\n",
    "'2018-01-01,user1,3',\n",
    "'2018-01-07,user1,4',\n",
    "'2018-03-29,user1,1',\n",
    "'2018-04-04,user1,13',\n",
    "'2018-01-05,user2,7',\n",
    "'2018-06-14,user3,4',\n",
    "'2018-07-02,user3,10',\n",
    "'2018-03-21,user4,19',\n",
    "'2018-03-22,user4,4', \n",
    "'2018-04-22,user4,8',\n",
    "'2018-05-03,user4,9',\n",
    "'2018-05-11,user4,11',\n",
    "]\n",
    "stream_1 = []\n",
    "dl_stream = len(stream)\n",
    "for x in range(dl_stream):\n",
    "    new_str = ''.join(stream[x])         # получаем строку из списка stream\n",
    "    dl_new_str = len(new_str)\n",
    "    if dl_new_str == 18:\n",
    "        b = new_str[17]                  # добовляем количество просмотров по датам при менее 10\n",
    "        stream_1.append(int(b))\n",
    "    else:\n",
    "        b = new_str[17]                  # добовляем количество просмотров по датам при более 9\n",
    "        b = b + new_str[18]\n",
    "        stream_1.append(int(b))\n",
    "print (stream_1)\n",
    "sum_view = sum(stream_1)\n",
    "print ('Отношение суммы всех просмотров к количеству уникальных пользователей: ', sum_view / 4)"
   ]
  },
  {
   "cell_type": "code",
   "execution_count": null,
   "metadata": {},
   "outputs": [],
   "source": []
  }
 ],
 "metadata": {
  "kernelspec": {
   "display_name": "Python 3",
   "language": "python",
   "name": "python3"
  },
  "language_info": {
   "codemirror_mode": {
    "name": "ipython",
    "version": 3
   },
   "file_extension": ".py",
   "mimetype": "text/x-python",
   "name": "python",
   "nbconvert_exporter": "python",
   "pygments_lexer": "ipython3",
   "version": "3.7.3"
  }
 },
 "nbformat": 4,
 "nbformat_minor": 2
}
